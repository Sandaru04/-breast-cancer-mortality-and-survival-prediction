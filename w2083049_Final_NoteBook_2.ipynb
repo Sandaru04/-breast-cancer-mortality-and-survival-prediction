{
  "nbformat": 4,
  "nbformat_minor": 0,
  "metadata": {
    "colab": {
      "provenance": [],
      "authorship_tag": "ABX9TyPvJH1KNwWjtAYYFXdI4/Qu"
    },
    "kernelspec": {
      "name": "python3",
      "display_name": "Python 3"
    },
    "language_info": {
      "name": "python"
    }
  },
  "cells": [
    {
      "cell_type": "markdown",
      "source": [
        "# Author : Sandaru Malshan\n",
        "# Peer Reviewer :[]\n",
        "# Date of peer Review:[]"
      ],
      "metadata": {
        "id": "TGbIn88Ajrtw"
      }
    },
    {
      "cell_type": "code",
      "source": [
        "# installing the data manipulations library\n",
        "!pip install pandas"
      ],
      "metadata": {
        "colab": {
          "base_uri": "https://localhost:8080/"
        },
        "id": "FytqAsbcj6ZG",
        "outputId": "4c416e4d-12de-48c0-e75b-a27ee47c9f98"
      },
      "execution_count": 170,
      "outputs": [
        {
          "output_type": "stream",
          "name": "stdout",
          "text": [
            "Requirement already satisfied: pandas in /usr/local/lib/python3.11/dist-packages (2.2.2)\n",
            "Requirement already satisfied: numpy>=1.23.2 in /usr/local/lib/python3.11/dist-packages (from pandas) (2.0.2)\n",
            "Requirement already satisfied: python-dateutil>=2.8.2 in /usr/local/lib/python3.11/dist-packages (from pandas) (2.9.0.post0)\n",
            "Requirement already satisfied: pytz>=2020.1 in /usr/local/lib/python3.11/dist-packages (from pandas) (2025.2)\n",
            "Requirement already satisfied: tzdata>=2022.7 in /usr/local/lib/python3.11/dist-packages (from pandas) (2025.2)\n",
            "Requirement already satisfied: six>=1.5 in /usr/local/lib/python3.11/dist-packages (from python-dateutil>=2.8.2->pandas) (1.17.0)\n"
          ]
        }
      ]
    },
    {
      "cell_type": "markdown",
      "source": [
        "## Import some Required Libraries"
      ],
      "metadata": {
        "id": "wwlD8ZbSkUYr"
      }
    },
    {
      "cell_type": "code",
      "execution_count": 171,
      "metadata": {
        "colab": {
          "base_uri": "https://localhost:8080/"
        },
        "id": "Lcw1DdmxYlv2",
        "outputId": "263feeea-1255-4af3-8e38-e5b90b156c4f"
      },
      "outputs": [
        {
          "output_type": "stream",
          "name": "stdout",
          "text": [
            "Import Required Libraries\n"
          ]
        }
      ],
      "source": [
        "import pandas as pd\n",
        "import numpy as np\n",
        "import matplotlib.pyplot as plt\n",
        "import seaborn as sns\n",
        "\n",
        "from sklearn.metrics import (accuracy_score, precision_score, recall_score,f1_score, confusion_matrix, roc_auc_score, roc_curve)\n",
        "\n",
        "import warnings\n",
        "warnings.filterwarnings(\"ignore\")\n",
        "\n",
        "print(\"Import Required Libraries\")"
      ]
    },
    {
      "cell_type": "markdown",
      "source": [
        "## Load the Dataset"
      ],
      "metadata": {
        "id": "vMKWrvWPersR"
      }
    },
    {
      "cell_type": "code",
      "source": [
        "print(\"===========================================================\")\n",
        "print(\"Load the Cleaned Classification Dataset (from Notebook 1)\")\n",
        "print(\"===========================================================\")\n",
        "data_frame = pd.read_csv(\"/content/classification_dataset.csv\")\n",
        "\n",
        "data_frame.info()"
      ],
      "metadata": {
        "colab": {
          "base_uri": "https://localhost:8080/"
        },
        "id": "eeZds3KccXtI",
        "outputId": "11e45690-5e2c-4729-b7d5-2075ab04befd"
      },
      "execution_count": 172,
      "outputs": [
        {
          "output_type": "stream",
          "name": "stdout",
          "text": [
            "===========================================================\n",
            "Load the Cleaned Classification Dataset (from Notebook 1)\n",
            "===========================================================\n",
            "<class 'pandas.core.frame.DataFrame'>\n",
            "RangeIndex: 3723 entries, 0 to 3722\n",
            "Data columns (total 14 columns):\n",
            " #   Column                  Non-Null Count  Dtype  \n",
            "---  ------                  --------------  -----  \n",
            " 0   Age                     3723 non-null   float64\n",
            " 1   Sex                     3723 non-null   int64  \n",
            " 2   T_Stage                 3723 non-null   int64  \n",
            " 3   N_Stage                 3723 non-null   int64  \n",
            " 4   6th_Stage               3723 non-null   int64  \n",
            " 5   Differentiated          3723 non-null   int64  \n",
            " 6   Grade                   3723 non-null   int64  \n",
            " 7   A_Stage                 3723 non-null   int64  \n",
            " 8   Tumor_Size              3723 non-null   float64\n",
            " 9   Estrogen_Status         3723 non-null   int64  \n",
            " 10  Progesterone_Status     3723 non-null   int64  \n",
            " 11  Regional_Node_Examined  3723 non-null   float64\n",
            " 12  Reginol_Node_Positive   3723 non-null   int64  \n",
            " 13  Mortality_Status        3723 non-null   int64  \n",
            "dtypes: float64(3), int64(11)\n",
            "memory usage: 407.3 KB\n"
          ]
        }
      ]
    },
    {
      "cell_type": "markdown",
      "source": [
        "##Selecting Feature"
      ],
      "metadata": {
        "id": "JJm_ylPdfQh0"
      }
    },
    {
      "cell_type": "code",
      "source": [
        "x = data_frame.drop(\"Mortality_Status\", axis=1)\n",
        "y = data_frame[\"Mortality_Status\"]\n",
        "\n",
        "print(\"==== x data ====\")\n",
        "print(x.head())\n",
        "print(\"\\n==== y data ====\\n\")\n",
        "print(y.head())"
      ],
      "metadata": {
        "colab": {
          "base_uri": "https://localhost:8080/"
        },
        "id": "dwHSHAlgAm7g",
        "outputId": "9e700a75-ea6f-4271-82c1-d839eb222150"
      },
      "execution_count": 173,
      "outputs": [
        {
          "output_type": "stream",
          "name": "stdout",
          "text": [
            "==== x data ====\n",
            "    Age  Sex  T_Stage  N_Stage  6th_Stage  Differentiated  Grade  A_Stage  \\\n",
            "0  68.0    1        0        0          0               1      3        1   \n",
            "1  50.0    1        1        1          2               0      2        1   \n",
            "2  58.0    1        2        2          4               0      2        1   \n",
            "3  58.0    1        0        0          0               1      3        1   \n",
            "4  47.0    1        1        0          1               1      3        1   \n",
            "\n",
            "   Tumor_Size  Estrogen_Status  Progesterone_Status  Regional_Node_Examined  \\\n",
            "0         4.0                1                    1                    24.0   \n",
            "1        35.0                1                    1                    14.0   \n",
            "2        63.0                1                    1                    14.0   \n",
            "3        18.0                1                    1                     2.0   \n",
            "4        41.0                1                    1                     3.0   \n",
            "\n",
            "   Reginol_Node_Positive  \n",
            "0                      1  \n",
            "1                      5  \n",
            "2                      7  \n",
            "3                      1  \n",
            "4                      1  \n",
            "\n",
            "==== y data ====\n",
            "\n",
            "0    0\n",
            "1    0\n",
            "2    0\n",
            "3    0\n",
            "4    0\n",
            "Name: Mortality_Status, dtype: int64\n"
          ]
        }
      ]
    },
    {
      "cell_type": "markdown",
      "source": [
        "### Data Standardization"
      ],
      "metadata": {
        "id": "Zkant-M8W1zF"
      }
    },
    {
      "cell_type": "code",
      "source": [
        "from sklearn.preprocessing import StandardScaler\n",
        "scaler = StandardScaler()\n",
        "x= scaler.fit_transform(x)\n",
        "print(x[:5])\n"
      ],
      "metadata": {
        "colab": {
          "base_uri": "https://localhost:8080/"
        },
        "id": "yMyuD7ukNxP-",
        "outputId": "a8b3c312-d607-43f9-aa52-d48861a906a4"
      },
      "execution_count": 174,
      "outputs": [
        {
          "output_type": "stream",
          "name": "stdout",
          "text": [
            "[[ 1.55833682  0.0697015  -0.99454911 -0.60124694 -0.99735586  0.30183191\n",
            "   1.34732551  0.13943243 -1.52264696  0.25838378  0.45174665  1.38134667\n",
            "  -0.61385628]\n",
            " [-0.45408073  0.0697015   0.41923719  0.89603892  0.63122128 -0.67616653\n",
            "  -0.22364     0.13943243  0.54336902  0.25838378  0.45174665  0.02183688\n",
            "   0.24450501]\n",
            " [ 0.44032707  0.0697015   1.8330235   2.39332477  2.25979841 -0.67616653\n",
            "  -0.22364     0.13943243  2.40944797  0.25838378  0.45174665  0.02183688\n",
            "   0.67368566]\n",
            " [ 0.44032707  0.0697015  -0.99454911 -0.60124694 -0.99735586  0.30183191\n",
            "   1.34732551  0.13943243 -0.58960748  0.25838378  0.45174665 -1.60957488\n",
            "  -0.61385628]\n",
            " [-0.78948365  0.0697015   0.41923719 -0.60124694 -0.18306729  0.30183191\n",
            "   1.34732551  0.13943243  0.94324308  0.25838378  0.45174665 -1.4736239\n",
            "  -0.61385628]]\n"
          ]
        }
      ]
    },
    {
      "cell_type": "markdown",
      "source": [
        "### Divide data set training and testing"
      ],
      "metadata": {
        "id": "MqHPM2_YXQ5m"
      }
    },
    {
      "cell_type": "code",
      "source": [
        "# split X and y into training and testing sets\n",
        "from sklearn.model_selection import train_test_split, GridSearchCV\n",
        "\n",
        "X_train, X_test, y_train, y_test = train_test_split(x, y, test_size=0.2, random_state=42)\n",
        "print('Whole Data shape', data_frame.shape)\n",
        "print('X_train shape', X_train.shape)\n",
        "print('X_test shape', X_test.shape)"
      ],
      "metadata": {
        "colab": {
          "base_uri": "https://localhost:8080/"
        },
        "id": "JUbO5tIFBFwT",
        "outputId": "a7cfe8e3-19ed-4909-95ac-39d95ec67c1a"
      },
      "execution_count": 175,
      "outputs": [
        {
          "output_type": "stream",
          "name": "stdout",
          "text": [
            "Whole Data shape (3723, 14)\n",
            "X_train shape (2978, 13)\n",
            "X_test shape (745, 13)\n"
          ]
        }
      ]
    },
    {
      "cell_type": "markdown",
      "source": [
        "### PCA (Dimensionality Reduction)"
      ],
      "metadata": {
        "id": "soNLlanEnUEc"
      }
    },
    {
      "cell_type": "code",
      "source": [
        "from sklearn.decomposition import PCA\n",
        "\n",
        "pca = PCA(n_components=5)\n",
        "X_train_pca = pca.fit_transform(X_train)\n",
        "X_test_pca = pca.transform(X_test)\n",
        "\n",
        "print(\"PCA Explained Variance Ratio:\", pca.explained_variance_ratio_)"
      ],
      "metadata": {
        "colab": {
          "base_uri": "https://localhost:8080/"
        },
        "id": "7CjzCkHwchBT",
        "outputId": "01b25970-1384-4a20-8fe7-970c3ed47e0b"
      },
      "execution_count": 176,
      "outputs": [
        {
          "output_type": "stream",
          "name": "stdout",
          "text": [
            "PCA Explained Variance Ratio: [0.27378065 0.12481924 0.11447063 0.09490519 0.07873551]\n"
          ]
        }
      ]
    },
    {
      "cell_type": "markdown",
      "source": [
        "### Model Evaluation Function"
      ],
      "metadata": {
        "id": "MEMBLyssuzlK"
      }
    },
    {
      "cell_type": "code",
      "source": [
        "from sklearn.metrics import (accuracy_score, precision_score, recall_score,f1_score, confusion_matrix, roc_auc_score, roc_curve)\n",
        "results = []\n",
        "\n",
        "def evaluate_model(name, model, X_train, y_train, X_test, y_test,plot_roc=False):\n",
        "    model.fit(X_train, y_train)\n",
        "    y_pred = model.predict(X_test)\n",
        "    y_prob = model.predict_proba(X_test)[:,1] if hasattr(model, \"predict_proba\") else None\n",
        "\n",
        "    acc = accuracy_score(y_test, y_pred)\n",
        "    prec = precision_score(y_test, y_pred)\n",
        "    rec = recall_score(y_test, y_pred)\n",
        "    f1 = f1_score(y_test, y_pred)\n",
        "    auc = roc_auc_score(y_test, y_prob) if y_prob is not None else None\n",
        "\n",
        "    print(f\"\\n{name} Evaluation:\")\n",
        "    print(f\"Accuracy : {acc:.4f}\")\n",
        "    print(f\"Precision: {prec:.4f}\")\n",
        "    print(f\"Recall   : {rec:.4f}\")\n",
        "    print(f\"F1 Score : {f1:.4f}\")\n",
        "    if auc: print(f\"ROC AUC  : {auc:.4f}\")\n",
        "    print(\"Confusion Matrix:\\n\", confusion_matrix(y_test, y_pred))\n",
        "\n",
        "    # Save results\n",
        "    results.append((name, acc, prec, rec, f1, auc))\n",
        "\n",
        "    if y_prob is not None:\n",
        "        fpr, tpr, _ = roc_curve(y_test, y_prob)\n",
        "        plt.plot(fpr, tpr, label=name)\n",
        "\n",
        "print(\"Model Evaluation Function\")"
      ],
      "metadata": {
        "colab": {
          "base_uri": "https://localhost:8080/"
        },
        "id": "sMYobCQ1ch3a",
        "outputId": "8a9b35d2-7595-4b3a-c43a-1bad48ca7b7d"
      },
      "execution_count": 177,
      "outputs": [
        {
          "output_type": "stream",
          "name": "stdout",
          "text": [
            "Model Evaluation Function\n"
          ]
        }
      ]
    },
    {
      "cell_type": "markdown",
      "source": [
        "# Train and Evaluate Classifiers"
      ],
      "metadata": {
        "id": "QeXecj0jhbSp"
      }
    },
    {
      "cell_type": "markdown",
      "source": [
        "### Logistic Regression"
      ],
      "metadata": {
        "id": "4jHirneMheG7"
      }
    },
    {
      "cell_type": "code",
      "source": [
        "# Logistic Regression\n",
        "from sklearn.linear_model import LogisticRegression\n",
        "lr = LogisticRegression()\n",
        "evaluate_model(\"Logistic Regression\", lr, X_train_pca, y_train, X_test_pca, y_test)"
      ],
      "metadata": {
        "colab": {
          "base_uri": "https://localhost:8080/",
          "height": 604
        },
        "id": "8ZtR3Q-ThlTr",
        "outputId": "573a018c-eb19-46a3-a1c1-a26f6a5dc93f"
      },
      "execution_count": 178,
      "outputs": [
        {
          "output_type": "stream",
          "name": "stdout",
          "text": [
            "\n",
            "Logistic Regression Evaluation:\n",
            "Accuracy : 0.8725\n",
            "Precision: 0.5714\n",
            "Recall   : 0.0825\n",
            "F1 Score : 0.1441\n",
            "ROC AUC  : 0.7172\n",
            "Confusion Matrix:\n",
            " [[642   6]\n",
            " [ 89   8]]\n"
          ]
        },
        {
          "output_type": "display_data",
          "data": {
            "text/plain": [
              "<Figure size 640x480 with 1 Axes>"
            ],
            "image/png": "[encoded data removed]"
          },
          "metadata": {}
        }
      ]
    },
    {
      "cell_type": "code",
      "source": [
        "pread =lr.predict(X_test_pca)\n",
        "print(pread)"
      ],
      "metadata": {
        "colab": {
          "base_uri": "https://localhost:8080/"
        },
        "id": "tsng2qBrkm_u",
        "outputId": "93fd0bfc-8a7d-45ea-d06e-9ade0589cf05"
      },
      "execution_count": 179,
      "outputs": [
        {
          "output_type": "stream",
          "name": "stdout",
          "text": [
            "[0 0 0 0 1 0 0 0 0 0 0 0 0 0 0 0 0 0 0 0 0 0 0 0 0 0 0 0 0 0 0 0 0 0 0 0 0\n",
            " 0 0 0 0 0 0 0 0 0 0 0 0 0 0 0 0 0 0 0 0 0 0 0 0 0 0 0 0 0 0 0 0 0 0 0 0 0\n",
            " 0 0 0 0 0 0 0 0 0 0 0 0 0 1 0 0 0 0 0 0 0 0 0 0 0 0 0 0 0 0 0 0 0 0 0 0 0\n",
            " 0 0 0 0 0 0 0 0 0 0 0 0 0 0 0 0 0 0 0 0 0 0 0 0 0 0 0 0 0 0 0 0 0 0 0 0 0\n",
            " 0 0 0 0 0 0 0 0 0 0 0 0 0 0 1 0 0 0 0 0 0 0 0 0 0 0 0 0 0 0 0 0 0 0 0 0 0\n",
            " 0 0 0 0 0 0 0 0 0 1 0 0 0 0 0 0 0 0 0 0 0 0 0 0 0 0 0 0 0 0 0 0 1 0 0 0 0\n",
            " 0 0 0 0 0 0 0 0 0 0 0 0 0 0 0 0 0 0 0 0 0 1 0 0 0 0 0 0 0 0 0 0 0 0 0 0 0\n",
            " 0 0 0 0 0 0 0 0 0 0 0 0 0 0 0 0 0 0 0 0 0 0 0 0 0 0 0 0 0 0 0 0 0 0 0 0 0\n",
            " 0 0 0 0 0 0 0 0 0 0 0 0 0 0 0 0 0 0 0 0 0 0 0 0 0 1 0 0 0 0 0 0 0 0 0 0 0\n",
            " 1 0 0 0 0 1 0 0 0 0 0 0 0 0 0 0 0 0 0 1 0 0 0 0 0 0 0 0 0 0 0 0 0 0 0 0 0\n",
            " 0 0 0 0 0 0 0 0 0 0 0 0 0 0 0 0 0 0 0 0 0 0 0 0 0 0 0 0 0 0 0 0 0 0 0 0 0\n",
            " 0 0 0 0 0 0 0 0 0 0 0 0 0 0 0 0 0 0 0 0 0 0 0 0 0 0 0 0 0 0 0 0 0 0 0 0 0\n",
            " 0 0 0 0 0 0 0 0 0 0 0 0 0 0 0 0 0 0 0 0 0 0 0 0 0 0 0 0 0 0 0 0 0 0 0 0 0\n",
            " 0 0 0 0 0 0 0 0 0 0 0 0 0 0 0 0 0 0 0 0 0 0 0 0 0 1 0 0 0 0 0 0 0 0 0 0 0\n",
            " 0 0 0 0 0 0 0 0 0 0 0 0 0 0 0 0 0 0 0 0 0 0 0 0 0 0 0 1 0 0 0 0 0 0 0 0 0\n",
            " 0 0 0 0 0 0 0 0 0 0 0 0 0 0 0 0 0 0 0 0 0 0 0 0 0 0 0 0 0 0 0 0 0 0 0 0 0\n",
            " 0 0 0 0 0 0 0 0 0 0 0 0 0 0 0 0 0 0 0 0 0 0 0 0 0 0 0 0 0 0 0 0 0 0 0 0 0\n",
            " 0 0 0 0 0 0 0 0 0 0 0 0 0 0 0 0 0 0 0 0 0 0 0 0 0 0 0 0 0 0 0 0 0 0 0 0 0\n",
            " 0 0 0 0 0 0 0 0 1 0 0 0 0 0 0 0 0 0 0 0 0 0 0 0 0 0 0 0 0 0 0 0 0 0 0 0 0\n",
            " 0 0 0 0 0 0 0 0 0 0 0 0 0 0 0 0 0 0 0 0 0 0 0 1 0 0 0 0 0 0 0 0 0 0 0 0 0\n",
            " 0 0 0 0 0]\n"
          ]
        }
      ]
    },
    {
      "cell_type": "markdown",
      "source": [
        "### Naive Bayes"
      ],
      "metadata": {
        "id": "Ka1L5Gkghnzi"
      }
    },
    {
      "cell_type": "code",
      "source": [
        "# Naive Bayes\n",
        "from sklearn.naive_bayes import GaussianNB\n",
        "nb = GaussianNB()\n",
        "evaluate_model(\"Naive Bayes\", nb, X_train_pca, y_train, X_test_pca, y_test)"
      ],
      "metadata": {
        "colab": {
          "base_uri": "https://localhost:8080/",
          "height": 604
        },
        "id": "FiE9H7cHhsbj",
        "outputId": "1f6feb50-66e5-40fc-f8a1-f55c93ec7540"
      },
      "execution_count": 180,
      "outputs": [
        {
          "output_type": "stream",
          "name": "stdout",
          "text": [
            "\n",
            "Naive Bayes Evaluation:\n",
            "Accuracy : 0.8497\n",
            "Precision: 0.4000\n",
            "Recall   : 0.3093\n",
            "F1 Score : 0.3488\n",
            "ROC AUC  : 0.7091\n",
            "Confusion Matrix:\n",
            " [[603  45]\n",
            " [ 67  30]]\n"
          ]
        },
        {
          "output_type": "display_data",
          "data": {
            "text/plain": [
              "<Figure size 640x480 with 1 Axes>"
            ],
            "image/png": "[encoded data removed]"
          },
          "metadata": {}
        }
      ]
    },
    {
      "cell_type": "code",
      "source": [
        "pread =nb.predict(X_test_pca)\n",
        "print(pread)"
      ],
      "metadata": {
        "colab": {
          "base_uri": "https://localhost:8080/"
        },
        "id": "l3buZLZdkrXb",
        "outputId": "b3144301-4d96-4fc5-98b8-c8cdb7810b7c"
      },
      "execution_count": 181,
      "outputs": [
        {
          "output_type": "stream",
          "name": "stdout",
          "text": [
            "[0 0 1 0 1 0 0 0 0 0 0 0 0 0 0 0 0 0 0 0 0 0 0 0 0 0 0 0 0 1 0 0 0 0 0 0 0\n",
            " 0 0 1 0 0 0 0 0 0 0 0 0 0 0 0 0 1 0 1 0 0 0 0 0 0 0 0 0 0 1 0 1 0 0 0 0 0\n",
            " 0 0 0 0 0 0 0 0 0 0 0 0 1 1 0 0 0 0 0 0 0 0 0 0 0 0 0 0 0 0 0 0 0 0 0 0 0\n",
            " 1 0 0 0 0 0 0 0 0 0 0 0 0 0 0 1 0 0 0 0 0 0 0 0 0 0 0 0 0 0 0 0 0 0 1 0 0\n",
            " 0 0 0 0 0 0 1 0 0 0 0 0 0 0 1 0 0 0 0 0 0 0 0 0 0 1 0 0 0 0 0 0 0 0 0 0 0\n",
            " 0 0 0 0 0 0 0 0 0 1 0 0 0 0 0 0 0 0 0 0 0 0 0 0 0 0 0 0 0 0 0 0 1 0 0 0 0\n",
            " 0 0 0 0 0 1 0 0 0 0 0 0 0 0 0 1 0 0 0 0 1 1 0 0 0 0 0 0 0 0 0 1 0 0 0 0 0\n",
            " 1 0 0 1 0 0 1 0 0 0 1 0 0 0 0 0 0 0 0 0 0 0 0 0 0 0 0 0 0 0 1 0 0 0 1 0 0\n",
            " 1 0 0 0 0 0 0 0 0 0 0 0 0 0 0 0 0 0 0 0 0 0 0 0 0 1 0 0 0 0 0 0 0 0 0 0 0\n",
            " 1 0 0 0 1 1 0 0 0 0 0 0 0 0 0 0 0 0 0 1 0 0 0 0 0 0 0 0 0 0 0 1 0 0 0 0 0\n",
            " 0 0 0 0 0 0 0 0 0 0 1 0 0 0 0 0 0 0 0 0 0 0 0 0 1 0 0 0 0 0 0 0 0 0 1 0 0\n",
            " 0 0 0 0 0 0 0 0 1 1 0 0 1 0 0 0 0 0 0 0 0 0 0 0 0 0 0 0 0 0 0 0 0 0 0 0 0\n",
            " 0 0 1 0 0 0 0 0 0 0 0 0 0 0 0 0 0 0 0 0 0 0 0 0 0 0 0 0 1 0 0 0 0 0 0 0 0\n",
            " 0 1 0 0 0 0 0 0 0 0 0 0 1 0 0 0 0 0 0 0 1 1 0 0 0 1 0 0 0 0 0 0 0 1 0 0 0\n",
            " 0 0 0 0 0 0 0 0 0 0 0 0 0 0 0 0 0 0 0 0 0 0 0 0 0 1 0 1 1 0 0 1 0 0 0 0 0\n",
            " 1 0 0 0 0 0 0 0 0 0 0 0 0 1 0 0 0 0 0 0 0 0 1 0 0 0 0 0 0 1 0 0 0 0 0 0 0\n",
            " 0 0 0 0 0 0 0 1 0 0 0 0 1 0 0 0 0 0 0 0 0 0 1 0 0 0 1 0 0 0 1 0 0 0 0 0 0\n",
            " 0 0 0 0 0 0 0 0 0 0 0 0 0 0 0 0 0 0 0 0 0 0 0 0 0 1 0 0 0 0 0 0 0 0 0 0 0\n",
            " 0 0 0 0 0 0 0 1 1 0 0 0 0 0 1 0 0 0 0 0 1 1 1 0 0 0 1 0 0 0 0 0 0 0 0 0 0\n",
            " 0 0 1 0 0 0 0 0 0 0 0 0 0 0 0 1 0 0 0 0 0 0 0 1 0 0 0 0 0 0 0 0 0 0 0 0 0\n",
            " 0 0 0 1 0]\n"
          ]
        }
      ]
    },
    {
      "cell_type": "markdown",
      "source": [
        "### K-Nearest Neighbors"
      ],
      "metadata": {
        "id": "KSH6ThGVhyPA"
      }
    },
    {
      "cell_type": "code",
      "source": [
        "# K-Nearest Neighbors\n",
        "from sklearn.neighbors import KNeighborsClassifier\n",
        "knn = KNeighborsClassifier()\n",
        "evaluate_model(\"K-Nearest Neighbors\", knn, X_train_pca, y_train, X_test_pca, y_test)\n"
      ],
      "metadata": {
        "colab": {
          "base_uri": "https://localhost:8080/",
          "height": 604
        },
        "id": "BKgeFoHGh5Vj",
        "outputId": "ea1690aa-53e7-4aff-8514-de4d447cbdea"
      },
      "execution_count": 182,
      "outputs": [
        {
          "output_type": "stream",
          "name": "stdout",
          "text": [
            "\n",
            "K-Nearest Neighbors Evaluation:\n",
            "Accuracy : 0.8577\n",
            "Precision: 0.3548\n",
            "Recall   : 0.1134\n",
            "F1 Score : 0.1719\n",
            "ROC AUC  : 0.6541\n",
            "Confusion Matrix:\n",
            " [[628  20]\n",
            " [ 86  11]]\n"
          ]
        },
        {
          "output_type": "display_data",
          "data": {
            "text/plain": [
              "<Figure size 640x480 with 1 Axes>"
            ],
            "image/png": "[encoded data removed]"
          },
          "metadata": {}
        }
      ]
    },
    {
      "cell_type": "code",
      "source": [
        "pread =knn.predict(X_test_pca)\n",
        "print(pread)"
      ],
      "metadata": {
        "colab": {
          "base_uri": "https://localhost:8080/"
        },
        "id": "1iBbqquck4Mg",
        "outputId": "6bd286c9-def2-4821-ca88-91c21c5ed74e"
      },
      "execution_count": 183,
      "outputs": [
        {
          "output_type": "stream",
          "name": "stdout",
          "text": [
            "[0 0 0 0 1 0 0 0 0 0 0 0 0 0 0 0 0 0 0 0 0 0 0 0 0 0 0 0 0 0 0 0 0 0 0 0 0\n",
            " 0 0 0 0 0 0 0 0 0 0 0 0 0 0 0 0 0 0 0 0 0 0 0 0 0 0 0 0 0 0 0 1 0 0 0 0 0\n",
            " 0 0 0 0 0 0 0 0 0 0 0 0 0 1 0 0 0 0 0 0 0 0 0 0 0 0 0 0 0 0 0 0 0 0 0 0 0\n",
            " 0 0 0 0 0 0 0 0 0 0 0 0 0 0 0 0 0 0 0 0 0 0 0 0 0 0 0 0 0 1 0 0 0 0 0 0 0\n",
            " 0 0 0 0 0 0 0 0 0 0 0 0 0 0 0 0 0 0 1 1 0 0 0 0 0 0 0 0 0 0 0 0 0 0 0 0 0\n",
            " 0 0 0 0 0 0 0 0 0 1 0 0 0 0 0 0 0 0 0 0 0 0 0 0 0 0 0 0 0 0 0 0 1 0 0 0 0\n",
            " 0 0 0 0 0 1 0 0 0 0 0 0 0 0 0 0 0 0 0 0 0 1 0 0 0 0 0 0 0 0 0 0 0 0 0 0 0\n",
            " 0 0 0 0 0 0 0 0 0 0 0 0 0 0 0 0 0 0 0 0 0 0 0 0 0 0 0 0 0 0 0 0 0 0 0 0 0\n",
            " 0 0 0 0 0 0 0 0 0 0 0 0 0 0 0 0 0 0 0 0 1 0 0 0 0 0 0 0 0 0 0 0 0 0 0 0 0\n",
            " 1 0 0 0 0 0 0 0 0 0 0 0 0 0 0 0 0 0 0 1 0 0 0 0 0 0 0 0 0 0 0 0 0 0 0 1 0\n",
            " 0 0 0 0 0 0 0 0 0 0 0 0 1 0 0 0 0 0 0 0 0 0 0 0 0 0 0 0 0 0 0 0 0 0 1 0 0\n",
            " 0 0 0 0 0 0 0 0 0 0 0 0 0 0 0 0 0 0 0 0 0 0 0 0 0 0 0 0 0 0 0 0 0 0 0 0 0\n",
            " 0 0 1 0 0 0 0 0 0 0 0 0 0 0 0 0 0 0 0 0 0 0 0 0 0 0 0 0 0 0 0 0 0 0 0 0 0\n",
            " 0 0 0 0 0 0 0 0 0 0 0 0 1 0 0 0 0 0 0 0 0 0 0 0 0 1 0 0 0 0 0 0 0 0 0 1 0\n",
            " 0 0 0 0 0 0 0 0 0 0 0 0 0 0 0 0 0 0 0 0 0 0 0 0 0 0 0 1 1 0 0 0 0 0 0 0 0\n",
            " 0 0 0 0 0 1 0 0 0 0 0 0 0 0 0 0 0 0 0 0 0 0 0 0 0 0 0 0 0 1 0 0 0 0 0 0 0\n",
            " 0 0 0 0 0 0 0 0 0 0 0 0 0 0 0 0 0 0 0 0 0 0 0 0 0 0 0 0 0 0 0 0 0 0 0 0 0\n",
            " 0 0 0 0 0 0 0 0 0 0 0 0 0 0 0 0 0 0 0 0 0 0 0 0 0 1 0 0 0 0 0 0 0 0 0 0 0\n",
            " 0 0 0 0 0 0 0 0 1 0 0 0 0 0 0 0 1 0 0 0 0 1 0 0 0 1 0 0 0 0 0 0 0 0 0 0 0\n",
            " 0 0 1 0 0 0 0 0 0 0 0 0 0 0 0 0 0 0 0 0 0 0 0 1 0 0 0 0 0 0 0 0 0 0 0 0 0\n",
            " 0 0 0 0 0]\n"
          ]
        }
      ]
    },
    {
      "cell_type": "markdown",
      "source": [
        "### Show ROC Curves"
      ],
      "metadata": {
        "id": "JFJ6Auath9S6"
      }
    },
    {
      "cell_type": "code",
      "source": [
        "print(\"\\nPlotting ROC Curves...\")\n",
        "plt.figure(figsize=(8, 6))\n",
        "evaluate_model(\"Logistic Regression\", lr, X_train_pca, y_train, X_test_pca, y_test, plot_roc=True)\n",
        "evaluate_model(\"Naive Bayes\", nb, X_train_pca, y_train, X_test_pca, y_test, plot_roc=True)\n",
        "evaluate_model(\"KNN\", knn, X_train_pca, y_train, X_test_pca, y_test, plot_roc=True)\n",
        "\n",
        "\n",
        "plt.title(\"ROC Curves\")\n",
        "plt.xlabel(\"False Positive Rate\")\n",
        "plt.ylabel(\"True Positive Rate\")\n",
        "plt.legend()\n",
        "plt.grid(True)\n",
        "plt.show()"
      ],
      "metadata": {
        "colab": {
          "base_uri": "https://localhost:8080/",
          "height": 1000
        },
        "id": "qS9ZD-NuiA9-",
        "outputId": "b5ef07ae-9228-41a7-db9a-bb291ab074f2"
      },
      "execution_count": 184,
      "outputs": [
        {
          "output_type": "stream",
          "name": "stdout",
          "text": [
            "\n",
            "Plotting ROC Curves...\n",
            "\n",
            "Logistic Regression Evaluation:\n",
            "Accuracy : 0.8725\n",
            "Precision: 0.5714\n",
            "Recall   : 0.0825\n",
            "F1 Score : 0.1441\n",
            "ROC AUC  : 0.7172\n",
            "Confusion Matrix:\n",
            " [[642   6]\n",
            " [ 89   8]]\n",
            "\n",
            "Naive Bayes Evaluation:\n",
            "Accuracy : 0.8497\n",
            "Precision: 0.4000\n",
            "Recall   : 0.3093\n",
            "F1 Score : 0.3488\n",
            "ROC AUC  : 0.7091\n",
            "Confusion Matrix:\n",
            " [[603  45]\n",
            " [ 67  30]]\n",
            "\n",
            "KNN Evaluation:\n",
            "Accuracy : 0.8577\n",
            "Precision: 0.3548\n",
            "Recall   : 0.1134\n",
            "F1 Score : 0.1719\n",
            "ROC AUC  : 0.6541\n",
            "Confusion Matrix:\n",
            " [[628  20]\n",
            " [ 86  11]]\n"
          ]
        },
        {
          "output_type": "display_data",
          "data": {
            "text/plain": [
              "<Figure size 800x600 with 1 Axes>"
            ],
            "image/png": "[encoded data removed]"
          },
          "metadata": {}
        }
      ]
    },
    {
      "cell_type": "markdown",
      "source": [
        "### Hyperparameter Tuning for KNN"
      ],
      "metadata": {
        "id": "co-ZX1t-mTZb"
      }
    },
    {
      "cell_type": "code",
      "source": [
        "param_grid = {'n_neighbors': range(1, 21)}\n",
        "grid_knn = GridSearchCV(KNeighborsClassifier(), param_grid, cv=5, scoring='accuracy')\n",
        "grid_knn.fit(X_train_pca, y_train)\n",
        "\n",
        "print(\"Best K for KNN:\", grid_knn.best_params_)\n",
        "evaluate_model(\"Tuned KNN\", grid_knn.best_estimator_, X_train_pca, y_train, X_test_pca, y_test)"
      ],
      "metadata": {
        "colab": {
          "base_uri": "https://localhost:8080/",
          "height": 621
        },
        "id": "eAsUkSYrcqwz",
        "outputId": "1a61569d-84b8-40d8-ee32-1d947e6452d0"
      },
      "execution_count": 185,
      "outputs": [
        {
          "output_type": "stream",
          "name": "stdout",
          "text": [
            "Best K for KNN: {'n_neighbors': 20}\n",
            "\n",
            "Tuned KNN Evaluation:\n",
            "Accuracy : 0.8738\n",
            "Precision: 0.6667\n",
            "Recall   : 0.0619\n",
            "F1 Score : 0.1132\n",
            "ROC AUC  : 0.7088\n",
            "Confusion Matrix:\n",
            " [[645   3]\n",
            " [ 91   6]]\n"
          ]
        },
        {
          "output_type": "display_data",
          "data": {
            "text/plain": [
              "<Figure size 640x480 with 1 Axes>"
            ],
            "image/png": "[encoded data removed]"
          },
          "metadata": {}
        }
      ]
    },
    {
      "cell_type": "code",
      "source": [
        "pread = grid_knn.predict(X_test_pca)\n",
        "print(pread)"
      ],
      "metadata": {
        "colab": {
          "base_uri": "https://localhost:8080/"
        },
        "id": "_tfGNU72nGUt",
        "outputId": "94977e32-7f2b-4003-87f1-71ea3b7c86d2"
      },
      "execution_count": 186,
      "outputs": [
        {
          "output_type": "stream",
          "name": "stdout",
          "text": [
            "[0 0 0 0 1 0 0 0 0 0 0 0 0 0 0 0 0 0 0 0 0 0 0 0 0 0 0 0 0 0 0 0 0 0 0 0 0\n",
            " 0 0 0 0 0 0 0 0 0 0 0 0 0 0 0 0 0 0 0 0 0 0 0 0 0 0 0 0 0 0 0 0 0 0 0 0 0\n",
            " 0 0 0 0 0 0 0 0 0 0 0 0 0 1 0 0 0 0 0 0 0 0 0 0 0 0 0 0 0 0 0 0 0 0 0 0 0\n",
            " 0 0 0 0 0 0 0 0 0 0 0 0 0 0 0 0 0 0 0 0 0 0 0 0 0 0 0 0 0 0 0 0 0 0 0 0 0\n",
            " 0 0 0 0 0 0 0 0 0 0 0 0 0 0 0 0 0 0 0 0 0 0 0 0 0 0 0 0 0 0 0 0 0 0 0 0 0\n",
            " 0 0 0 0 0 0 0 0 0 1 0 0 0 0 0 0 0 0 0 0 0 0 0 0 0 0 0 0 0 0 0 0 1 0 0 0 0\n",
            " 0 0 0 0 0 0 0 0 0 0 0 0 0 0 0 0 0 0 0 0 0 1 0 0 0 0 0 0 0 0 0 0 0 0 0 0 0\n",
            " 0 0 1 0 0 0 0 0 0 0 0 0 0 0 0 0 0 0 0 0 0 0 0 0 0 0 0 0 0 0 0 0 0 0 0 0 0\n",
            " 0 0 0 0 0 0 0 0 0 0 0 0 0 0 0 0 0 0 0 0 0 0 0 0 0 1 0 0 0 0 0 0 0 0 0 0 0\n",
            " 0 0 0 0 0 1 0 0 0 0 0 0 0 0 0 0 0 0 0 0 0 0 0 0 0 0 0 0 0 0 0 0 0 0 0 0 0\n",
            " 0 0 0 0 0 0 0 0 0 0 0 0 0 0 0 0 0 0 0 0 0 0 0 0 0 0 0 0 0 0 0 0 0 0 0 0 0\n",
            " 0 0 0 0 0 0 0 0 0 0 0 0 0 0 0 0 0 0 0 0 0 0 0 0 0 0 0 0 0 0 0 0 0 0 0 0 0\n",
            " 0 0 0 0 0 0 0 0 0 0 0 0 0 0 0 0 0 0 0 0 0 0 0 0 0 0 0 0 0 0 0 0 0 0 0 0 0\n",
            " 0 0 0 0 0 0 0 0 0 0 0 0 0 0 0 0 0 0 0 0 0 0 0 0 0 0 0 0 0 0 0 0 0 0 0 0 0\n",
            " 0 0 0 0 0 0 0 0 0 0 0 0 0 0 0 0 0 0 0 0 0 0 0 0 0 0 0 0 0 0 0 0 0 0 0 0 0\n",
            " 0 0 0 0 0 0 0 0 0 0 0 0 0 0 0 0 0 0 0 0 0 0 0 0 0 0 0 0 0 1 0 0 0 0 0 0 0\n",
            " 0 0 0 0 0 0 0 0 0 0 0 0 0 0 0 0 0 0 0 0 0 0 0 0 0 0 0 0 0 0 0 0 0 0 0 0 0\n",
            " 0 0 0 0 0 0 0 0 0 0 0 0 0 0 0 0 0 0 0 0 0 0 0 0 0 0 0 0 0 0 0 0 0 0 0 0 0\n",
            " 0 0 0 0 0 0 0 0 0 0 0 0 0 0 0 0 0 0 0 0 0 0 0 0 0 0 0 0 0 0 0 0 0 0 0 0 0\n",
            " 0 0 0 0 0 0 0 0 0 0 0 0 0 0 0 0 0 0 0 0 0 0 0 0 0 0 0 0 0 0 0 0 0 0 0 0 0\n",
            " 0 0 0 0 0]\n"
          ]
        }
      ]
    },
    {
      "cell_type": "markdown",
      "source": [
        "### Final Summary"
      ],
      "metadata": {
        "id": "KGknE4FAu7Yx"
      }
    },
    {
      "cell_type": "code",
      "source": [
        "print(\"\\nSUMMARY\")\n",
        "print(\"- Applied StandardScaler and PCA (5 components).\")\n",
        "print(\"- Trained 3 classifiers: Logistic Regression, Naive Bayes, KNN.\")\n",
        "print(\"- Evaluated with Accuracy, Precision, Recall, F1, Confusion Matrix, ROC AUC.\")\n",
        "print(\"- Tuned KNN using GridSearchCV.\")"
      ],
      "metadata": {
        "colab": {
          "base_uri": "https://localhost:8080/"
        },
        "id": "jnKhHFt1cvuN",
        "outputId": "9ad392ca-04d7-4a86-8f77-ebc5573e54fc"
      },
      "execution_count": 187,
      "outputs": [
        {
          "output_type": "stream",
          "name": "stdout",
          "text": [
            "\n",
            "SUMMARY\n",
            "- Applied StandardScaler and PCA (5 components).\n",
            "- Trained 3 classifiers: Logistic Regression, Naive Bayes, KNN.\n",
            "- Evaluated with Accuracy, Precision, Recall, F1, Confusion Matrix, ROC AUC.\n",
            "- Tuned KNN using GridSearchCV.\n"
          ]
        }
      ]
    }
  ]
}